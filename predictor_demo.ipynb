{
 "cells": [
  {
   "cell_type": "code",
   "execution_count": 1,
   "metadata": {},
   "outputs": [
    {
     "name": "stderr",
     "output_type": "stream",
     "text": [
      "Using TensorFlow backend.\n"
     ]
    }
   ],
   "source": [
    "import torch\n",
    "from nl2sql.dataloader import DataTransformer\n",
    "from nl2sql.predictor import SequencePredictor\n",
    "from nl2sql.model import NL2SQL\n",
    "import os\n",
    "import pickle\n",
    "from nl2sql.predictor import SequencePredictor\n",
    "import pandas as pd\n",
    "import re\n",
    "\n",
    "os.chdir('/home/project')\n",
    "\n",
    "def format_sql(sels, aggs):\n",
    "    sql = \"SELECT {agg}({col}) FROM t1\"\n",
    "    return [sql.format(agg=agg, col=sel) for agg, sel in zip(aggs, sels)]\n",
    "\n",
    "\n",
    "def sub_find(x):\n",
    "    x = re.sub('franchisee', 'franchise', x, flags=re.IGNORECASE)\n",
    "    return x\n",
    "\n",
    "\n",
    "def sub_cols(xs):\n",
    "    xs = list(map(lambda x: re.sub('ACCT', 'account', x, flags=re.IGNORECASE), xs))\n",
    "    return xs\n",
    "\n",
    "\n",
    "df = pd.read_csv('nl2sql/Sony_test_data.csv')\n",
    "df.header = df.header.apply(lambda x: sub_cols(eval(x)))\n",
    "\n",
    "# if not ran:\n",
    "\n",
    "# ran = True"
   ]
  },
  {
   "cell_type": "code",
   "execution_count": null,
   "metadata": {},
   "outputs": [],
   "source": []
  },
  {
   "cell_type": "code",
   "execution_count": 2,
   "metadata": {},
   "outputs": [],
   "source": [
    "datatransformer = pickle.load(open('data/datatransformer_all.pic', 'rb'))\n",
    "model = torch.load(\"data/training/models/NL2SQL18e:5.pt\")\n",
    "\n",
    "predictor = SequencePredictor(model, datatransformer)\n",
    "\n",
    "# questions = ['Find the Distinct count of game names for RPG genre',\n",
    "#        'Find the number of games for RPG and Adventure genre',\n",
    "#        'Find the number of distinct Title_ID for Horizon Zero Dawn', # working\n",
    "#        'Find the Number of games under franchise 125690',\n",
    "#        'FIND TOTAL PLAYTIME FOR GAME_NAME_ID = 123456',  # wrong headers\n",
    "#        'FIND TOTAL NUMBER OF ACCOUNTS WHO PLAYED GAME_NAME_ID = 123456', #wrong headers\n",
    "#        'FIND TOTAL NUMBER OF ACCOUNTS WHO PLAYED ON DATE = 11/20/2018',\n",
    "#        'Find total revenue for the title whose title_id=118444 in US.  ',\n",
    "#        'Find number of accounts in region 4 ',\n",
    "#        'Find total sales for the title whose title_id=118444',\n",
    "#        'find the count of accounts of who made transaction on 11/26/2018.',\n",
    "#        'How many distinct trophy id are there for trophy name Battle for Control',\n",
    "#        \"List of trophies that are marked under title is 13333\",\n",
    "#        'What is the trophy_type of trophy name is Ballerina',\n",
    "#        'How many franchise names are present for franchise name id 75230',\n",
    "#        'How many distinct Game names are present for franchise name id 75230',\n",
    "#        'How many franchise names are present for Party Type 3 rd Party',\n",
    "#        'What is/are the game genre(s) for franchise name id 75230']\n",
    "# # questions = list(map(sub_find, df.question))\n",
    "# headers = df.header\n",
    "\n",
    "# preds = predictor.predict(questions, headers)\n",
    "# import pprint\n",
    "# pprint.pprint(dict(zip(questions, preds)))\n"
   ]
  },
  {
   "cell_type": "code",
   "execution_count": 3,
   "metadata": {},
   "outputs": [
    {
     "name": "stdout",
     "output_type": "stream",
     "text": [
      "[\"SELECT (currency) FROM t1 WHERE country = 'australia'\",\n",
      " \"SELECT MAX (state_area) FROM t1 WHERE country = 'india'\",\n",
      " \"SELECT (state_area) FROM t1 WHERE state_name = 'west bengal'\",\n",
      " \"SELECT AVG (salary) FROM t1 WHERE designation = 'scientist'\",\n",
      " \"SELECT (Max Gross Weight) FROM t1 WHERE Aircraft = 'robinson r-22'\",\n",
      " \"SELECT (Format) FROM t1 WHERE State/territory = 'south australia'\",\n",
      " \"SELECT (Text/background colour) FROM t1 WHERE State/territory = 'capital \"\n",
      " \"territory'\",\n",
      " \"SELECT COUNT (Fleet Series (Quantity)) FROM t1 WHERE Fuel Propulsion = 'cng'\",\n",
      " \"SELECT (Fuel Propulsion) FROM t1 WHERE Fleet Series (Quantity) = '310-329 \"\n",
      " \"(20'\",\n",
      " \"SELECT (Manufacturer) FROM t1 WHERE Order Year = '1998'\",\n",
      " \"SELECT COUNT (Manufacturer) FROM t1 WHERE Model = 'ge40lfr'\",\n",
      " \"SELECT COUNT (Order Year) FROM t1 WHERE Fleet Series (Quantity) = '468-473 \"\n",
      " \"(6'\",\n",
      " \"SELECT (Powertrain (Engine/Transmission)) FROM t1 WHERE Order Year = '2000'\",\n",
      " \"SELECT (Description) FROM t1 WHERE Aircraft = 'ch-47d chinook'\",\n",
      " \"SELECT (Max Gross Weight) FROM t1 WHERE Aircraft = 'robinson r-22'\",\n",
      " \"SELECT (School/Club Team) FROM t1 WHERE No. = '6'\",\n",
      " \"SELECT (School/Club Team) FROM t1 WHERE Years in Toronto = '2012-present'\",\n",
      " \"SELECT (School/Club Team) FROM t1 WHERE Years in Toronto = '2010-2012'\",\n",
      " \"SELECT (Position) FROM t1 WHERE School/Club Team = 'baylor'\",\n",
      " \"SELECT (Player) FROM t1 WHERE Years in Toronto = '1995-96'\",\n",
      " \"SELECT (No.) FROM t1 WHERE Player = 'patrick o'bryant'\",\n",
      " \"SELECT (School/Club Team) FROM t1 WHERE Player = 'patrick o'bryant'\",\n",
      " \"SELECT COUNT (No.) FROM t1 WHERE School/Club Team = 'fordham'\",\n",
      " \"SELECT (School/Club Team) FROM t1 WHERE Years in Toronto = '2001-02'\",\n",
      " \"SELECT (School/Club Team) FROM t1 WHERE Years in Toronto = '2004-05'\",\n",
      " \"SELECT (Position) FROM t1 WHERE Player = 'loren woods'\"]\n"
     ]
    }
   ],
   "source": [
    "import pprint\n",
    "# pprint.pprint(dict(zip(questions, preds)))\n",
    "preds = predictor.predict([\n",
    "        'what notes are used in Australia ? ',\n",
    "        'tell me the largest state in India?',\n",
    "        'tell me the size of state west bengal?',\n",
    "        # 'what is the minimum pay?',\n",
    "\n",
    "        'what is the average compensation for a data scientist? ',\n",
    "        'What is the max gross weight of the Robinson R-22?',\n",
    "        'What is the format for South Australia?',\n",
    "        'Name the background colour for the Australian Capital Territory',\n",
    "        'how many times is the fuel propulsion is cng?',\n",
    "        'what is the fuel propulsion where the fleet series (quantity) is 310-329 (20)?',\n",
    "        'who is the manufacturer for the order year 1998?',\n",
    "        'how many times is the model ge40lfr?',\n",
    "        'how many times is the fleet series (quantity) is 468-473 (6)?',\n",
    "        'what is the powertrain (engine/transmission) when the order year is 2000?',\n",
    "        'What if the description of a ch-47d chinook?',\n",
    "        'What is the max gross weight of the Robinson R-22?',\n",
    "        'What school did player number 6 come from?',\n",
    "        'What school did the player that has been in Toronto from 2012-present come from?',\n",
    "        'What school did the player that has been in Toronto from 2010-2012 go to?',\n",
    "        'What position did the player from Baylor play?',\n",
    "        'Who played in the Toronto Raptors from 1995-96?',\n",
    "        \"Which number was Patrick O'Bryant?\",\n",
    "        \"What school did Patrick O'Bryant play for?\",\n",
    "        'How many number does Fordham school have?',\n",
    "        'Which school was in Toronto in 2001-02?',\n",
    "        'Which school did the player that played 2004-05 attend?',\n",
    "        'Which position does Loren Woods play?'],\n",
    "        [['currency', 'area', 'population', 'country'],\n",
    "        ['state_name', 'state_area', 'population', 'country'],\n",
    "         ['state_name', 'state_area', 'population', 'country'],\n",
    "        ['salary', 'age', 'sex', 'designation', 'date of joining', 'address'],\n",
    "        ['Aircraft', 'Description', 'Max Gross Weight', 'Total disk area', 'Max disk Loading'],\n",
    "        ['State/territory', 'Text/background colour', 'Format', 'Current slogan', 'Current series', 'Notes'],\n",
    "        ['State/territory', 'Text/background colour', 'Format', 'Current slogan', 'Current series', 'Notes'],\n",
    "        ['Order Year', 'Manufacturer', 'Model', 'Fleet Series (Quantity)', 'Powertrain (Engine/Transmission)', 'Fuel Propulsion'],\n",
    "        ['Order Year', 'Manufacturer', 'Model', 'Fleet Series (Quantity)', 'Powertrain (Engine/Transmission)', 'Fuel Propulsion'],\n",
    "        ['Order Year', 'Manufacturer', 'Model', 'Fleet Series (Quantity)', 'Powertrain (Engine/Transmission)', 'Fuel Propulsion'],\n",
    "        ['Order Year', 'Manufacturer', 'Model', 'Fleet Series (Quantity)', 'Powertrain (Engine/Transmission)', 'Fuel Propulsion'],\n",
    "        ['Order Year', 'Manufacturer', 'Model', 'Fleet Series (Quantity)', 'Powertrain (Engine/Transmission)', 'Fuel Propulsion'],\n",
    "        ['Order Year', 'Manufacturer', 'Model', 'Fleet Series (Quantity)', 'Powertrain (Engine/Transmission)', 'Fuel Propulsion'],\n",
    "        ['Aircraft', 'Description', 'Max Gross Weight', 'Total disk area', 'Max disk Loading'],\n",
    "        ['Aircraft', 'Description', 'Max Gross Weight', 'Total disk area', 'Max disk Loading'],\n",
    "        ['Player', 'No.', 'Nationality', 'Position', 'Years in Toronto', 'School/Club Team'],\n",
    "        ['Player', 'No.', 'Nationality', 'Position', 'Years in Toronto', 'School/Club Team'],\n",
    "        ['Player', 'No.', 'Nationality', 'Position', 'Years in Toronto', 'School/Club Team'],\n",
    "        ['Player', 'No.', 'Nationality', 'Position', 'Years in Toronto', 'School/Club Team'],\n",
    "        ['Player', 'No.', 'Nationality', 'Position', 'Years in Toronto', 'School/Club Team'],\n",
    "        ['Player', 'No.', 'Nationality', 'Position', 'Years in Toronto', 'School/Club Team'],\n",
    "        ['Player', 'No.', 'Nationality', 'Position', 'Years in Toronto', 'School/Club Team'],\n",
    "        ['Player', 'No.', 'Nationality', 'Position', 'Years in Toronto', 'School/Club Team'],\n",
    "        ['Player', 'No.', 'Nationality', 'Position', 'Years in Toronto', 'School/Club Team'],\n",
    "        ['Player', 'No.', 'Nationality', 'Position', 'Years in Toronto', 'School/Club Team'],\n",
    "        ['Player', 'No.', 'Nationality', 'Position', 'Years in Toronto', 'School/Club Team'],])\n",
    "#                      ['fighter_id', 'weight', 'wins', 'losses', 'origin'],\n",
    "        \n",
    "\n",
    "pprint.pprint(preds)"
   ]
  },
  {
   "cell_type": "markdown",
   "metadata": {},
   "source": [
    "### Unseen examples test"
   ]
  },
  {
   "cell_type": "code",
   "execution_count": 4,
   "metadata": {},
   "outputs": [
    {
     "data": {
      "text/plain": [
       "[\"SELECT (currency) FROM t1 WHERE country = 'australia'\"]"
      ]
     },
     "execution_count": 4,
     "metadata": {},
     "output_type": "execute_result"
    }
   ],
   "source": [
    "predictor.predict(*[['which notes used in Australia ? '], [['currency', 'area', 'population', 'country']]])"
   ]
  },
  {
   "cell_type": "code",
   "execution_count": 5,
   "metadata": {},
   "outputs": [
    {
     "data": {
      "text/plain": [
       "[\"SELECT (state_area) FROM t1 WHERE state_name = 'karnataka'\"]"
      ]
     },
     "execution_count": 5,
     "metadata": {},
     "output_type": "execute_result"
    }
   ],
   "source": [
    "predictor.predict(*[['what is the size of karnataka?'], [['state_name', 'state_area', 'population', 'country']]])"
   ]
  },
  {
   "cell_type": "code",
   "execution_count": 6,
   "metadata": {},
   "outputs": [
    {
     "data": {
      "text/plain": [
       "[\"SELECT MAX (state_area) FROM t1 WHERE country = 'united states'\"]"
      ]
     },
     "execution_count": 6,
     "metadata": {},
     "output_type": "execute_result"
    }
   ],
   "source": [
    "predictor.predict(*[['tell me the largest state in United States?'], [['state_name', 'state_area', 'population', 'country']]])"
   ]
  },
  {
   "cell_type": "code",
   "execution_count": 7,
   "metadata": {},
   "outputs": [
    {
     "data": {
      "text/plain": [
       "[\"SELECT (TITLE_ID) FROM t1 WHERE GAME_NAME = 'fifa'\"]"
      ]
     },
     "execution_count": 7,
     "metadata": {},
     "output_type": "execute_result"
    }
   ],
   "source": [
    "predictor.predict(*[['find titles id for fifa'], [['TITLE_NAME', 'TITLE_ID', 'GAME_NAME', 'START_DATE', 'TIME_PLAYED']]])"
   ]
  },
  {
   "cell_type": "code",
   "execution_count": 8,
   "metadata": {},
   "outputs": [
    {
     "data": {
      "text/plain": [
       "[\"SELECT COUNT (GAME_NAME) FROM t1 WHERE GAME_GENRE = 'rpg'\"]"
      ]
     },
     "execution_count": 8,
     "metadata": {},
     "output_type": "execute_result"
    }
   ],
   "source": [
    "predictor.predict(*[['find total number of games for genre RPG'], [['TITLE_ID', 'FRANCHISE_NAME', 'GAME_NAME', 'SUPER_TITLE_NAME_ID', 'SUPER_TITLE_NAME', 'GAME_GENRE', 'PARTY_TYPE_ID', 'PARTY_TYPE', 'GLOBAL_SERVICE_PROVIDER_ID']]])"
   ]
  },
  {
   "cell_type": "code",
   "execution_count": 292,
   "metadata": {},
   "outputs": [
    {
     "data": {
      "text/plain": [
       "['SELECT COUNT (ACCOUNT_NAME) FROM t1 WHERE SESSION_START_UTC_DTTM = 12/20/2018']"
      ]
     },
     "execution_count": 292,
     "metadata": {},
     "output_type": "execute_result"
    }
   ],
   "source": [
    "predictor.predict(*[['FIND TOTAL NUMBER OF ACCOUNTS WHO PLAYED ON DATE = 12/20/2018'], [['GAME_PLAY_SESSION_ID', 'SESSION_START_UTC_DTTM', 'SESSION_START_UTC_DT_ID', 'SESSION_START_RHQ_DT_ID', 'SESSION_START_LOCATION_DT_ID', 'SESSION_START_UTC_TIME_ID', 'SESSION_START_LOCATION_TIME_ID', 'DEVICE_ID', 'DEVICE_TYPE_ID', 'IP_GEO_LOCATION_ID', 'SESSION_START_account_ID', \"ACCOUNT_NAME\"]]]\n",
    ")"
   ]
  },
  {
   "cell_type": "code",
   "execution_count": 280,
   "metadata": {},
   "outputs": [
    {
     "data": {
      "text/plain": [
       "['SELECT SUM (units) FROM t1 WHERE month_year = december-2018']"
      ]
     },
     "execution_count": 280,
     "metadata": {},
     "output_type": "execute_result"
    }
   ],
   "source": [
    "predictor.predict(*[['what is the total quantity in december-2018 ?'], [['units', 'month_year', 'selling price']]])"
   ]
  },
  {
   "cell_type": "code",
   "execution_count": 257,
   "metadata": {},
   "outputs": [
    {
     "data": {
      "text/plain": [
       "['SELECT (area) FROM t1 WHERE country = australia']"
      ]
     },
     "execution_count": 257,
     "metadata": {},
     "output_type": "execute_result"
    }
   ],
   "source": [
    "predictor.predict(*[['what size of Australia ? '], [['currency', 'area', 'population', 'country']]])"
   ]
  },
  {
   "cell_type": "code",
   "execution_count": 271,
   "metadata": {},
   "outputs": [
    {
     "data": {
      "text/plain": [
       "['SELECT (employee_name) FROM t1 WHERE attendance < 10 AND month_year = december 2018']"
      ]
     },
     "execution_count": 271,
     "metadata": {},
     "output_type": "execute_result"
    }
   ],
   "source": [
    "predictor.predict(*[['tell me employees whose attendance was less than 10 in December 2018 ?'], [['employee_name', 'attendance', 'month_year']]])"
   ]
  },
  {
   "cell_type": "code",
   "execution_count": 277,
   "metadata": {},
   "outputs": [
    {
     "data": {
      "text/plain": [
       "['SELECT MAX (damage_per_second) FROM t1 WHERE hero_type = tank AND has_shield']"
      ]
     },
     "execution_count": 277,
     "metadata": {},
     "output_type": "execute_result"
    }
   ],
   "source": [
    "predictor.predict(*[['find maximum damage per second hero for tank type and has a shield ?'], [['hero_type', 'damage_per_second', 'has_shield', 'hero_name', 'can fly', 'has_long_range_weapon']]])"
   ]
  },
  {
   "cell_type": "code",
   "execution_count": 197,
   "metadata": {},
   "outputs": [
    {
     "data": {
      "text/plain": [
       "['SELECT (party_name) FROM t1 WHERE year = 2018']"
      ]
     },
     "execution_count": 197,
     "metadata": {},
     "output_type": "execute_result"
    }
   ],
   "source": [
    "predictor.predict(*[['which party ran for 2018'], [['party_name', 'year', 'seats', 'votes']]])"
   ]
  },
  {
   "cell_type": "code",
   "execution_count": null,
   "metadata": {},
   "outputs": [],
   "source": []
  }
 ],
 "metadata": {
  "kernelspec": {
   "display_name": "Python 3",
   "language": "python",
   "name": "python3"
  },
  "language_info": {
   "codemirror_mode": {
    "name": "ipython",
    "version": 3
   },
   "file_extension": ".py",
   "mimetype": "text/x-python",
   "name": "python",
   "nbconvert_exporter": "python",
   "pygments_lexer": "ipython3",
   "version": "3.6.8"
  }
 },
 "nbformat": 4,
 "nbformat_minor": 2
}
